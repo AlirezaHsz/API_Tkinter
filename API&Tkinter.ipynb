{
 "cells": [
  {
   "cell_type": "markdown",
   "id": "00d571ad-7c10-4283-b6b8-17dc7c591e19",
   "metadata": {},
   "source": [
    "## **Gathering Universities Contact Information Through API & GUI built by Tkinter**"
   ]
  },
  {
   "cell_type": "markdown",
   "id": "ebb1b0bd-3a2d-4909-995f-d3ba3cd0e23e",
   "metadata": {},
   "source": [
    "In this project I have tried to gather contact informations of universities of Iran through an API. These universities are based in different provinces of Iran, for example Tehran, Isfahan, East Azerbaijan, etc. So in order to find an specefic university's information through our GUI, you have to enter the province name first. Then the contact informations of all of the universities based in that province will be gathered through the API."
   ]
  },
  {
   "cell_type": "markdown",
   "id": "40ff5783-5981-4671-ba2c-50bc67458950",
   "metadata": {},
   "source": [
    "**Table of contents**\n",
    "* Importing libraries\n",
    "* Connecting to data source\n",
    "* Defining secondary pop-up root by Tkinter\n",
    "* Defining Primary main root by Tkinter\n",
    "\n",
    "\n"
   ]
  },
  {
   "cell_type": "markdown",
   "id": "3c5778df-b16f-4606-bab3-a776bea6d3dd",
   "metadata": {},
   "source": [
    "### Importing libraries"
   ]
  },
  {
   "cell_type": "code",
   "execution_count": 1,
   "id": "a4cccd6d-d5cd-403d-8434-0fb21e780651",
   "metadata": {},
   "outputs": [],
   "source": [
    "import requests\n",
    "from tkinter import *"
   ]
  },
  {
   "cell_type": "markdown",
   "id": "682212df-4892-429d-be38-975be0b9cd2d",
   "metadata": {},
   "source": [
    "### Connecting to data source\n",
    "in this section we are trying to gather the universities data through API"
   ]
  },
  {
   "cell_type": "code",
   "execution_count": 2,
   "id": "3f9f2585-5a53-423c-87b1-7ba450c1fd08",
   "metadata": {},
   "outputs": [],
   "source": [
    "# defining query string:\n",
    "parameter={\"country\":\"IRAN\"}\n",
    "# returning data from data source :\n",
    "response=requests.get(\"http://universities.hipolabs.com/search\",parameter)\n",
    "# checking the connection :\n",
    "if response.status_code==200:\n",
    "    # changing data into JSON format :\n",
    "    iranUniInfo= (response.json()) \n",
    "else:\n",
    "    # print ERROR if connection is not made :\n",
    "    print(\"Error\",response.status_code)"
   ]
  },
  {
   "cell_type": "markdown",
   "id": "f54013e9-0532-4281-b590-4164df0f26b5",
   "metadata": {},
   "source": [
    "### Defining secondary pop-up root by Tkinter\n",
    "in this section we are building the secondary root of our GUI which will pop up after we enter the province name. Note that we have to build the secondary root first in order to be able to call it in the main root."
   ]
  },
  {
   "cell_type": "code",
   "execution_count": 3,
   "id": "5b4192c8-60f0-48e3-a017-2d016a7d133a",
   "metadata": {},
   "outputs": [],
   "source": [
    "# function for SHOW botton :\n",
    "def getUniInfo(state):\n",
    "    # returning the state name from entry :\n",
    "    uniState=entry1.get()\n",
    "    # finding the matching cases with entered state :\n",
    "    webpages=[]\n",
    "    for uni in iranUniInfo:    \n",
    "        if uni[\"state-province\"]==uniState:\n",
    "            # returning \"UNIVERSITY\" and \"WEB PAGE\" fields of the matching cases in dictionaries :\n",
    "            webpages.append ({\"UNIVERSITY\":uni[\"name\"] ,\"WEB PAGE\":uni['web_pages']})\n",
    "\n",
    "    # pop-up root definition :\n",
    "    root=Tk()\n",
    "    # title\n",
    "    root.title(\"University Info\")\n",
    "    # width\n",
    "    w=800\n",
    "    # height\n",
    "    h=300\n",
    "    # algorithm for finding the center of screen :\n",
    "    ws=root.winfo_screenwidth()\n",
    "    hs=root.winfo_screenheight()\n",
    "    # X of the center :\n",
    "    x=(ws/2)-(w/2)\n",
    "    # Y of the center\n",
    "    y=(hs/2)-(h/2)\n",
    "    # pop-up root  geometry :\n",
    "    root.geometry(\"%dx%d+%d+%d\"%(w,h,x,y))\n",
    "    # defining a frame to show the list of results :\n",
    "    frame1=Frame(master=root,height=250)\n",
    "    frame1.pack()\n",
    "    # defining a frame to show the RETURN button :\n",
    "    frame2=Frame(master=root,height=50)\n",
    "    frame2.pack()\n",
    "    # defining a scroll bar to scroll the results :\n",
    "    scrollbar1=Scrollbar(master=frame1)\n",
    "    scrollbar1.pack(side=RIGHT,fill=Y)\n",
    "    # defining a list box to put the results in :\n",
    "    mylist1 = Listbox(master=frame1, yscrollcommand = scrollbar1.set ,width=650)\n",
    "    for i in range(len(webpages)):\n",
    "        # inserting each result in a seperate line :\n",
    "        mylist1.insert(END, webpages[i])\n",
    "    mylist1.pack( side = LEFT, fill = BOTH )\n",
    "    # configure of the scroll bar :\n",
    "    scrollbar1.config( command = mylist1.yview )\n",
    "    # defining the RETURN button to close the pop-up root :\n",
    "    button2=Button(master=frame2,text=\"Return\",bg=\"gray\",width=20,command=root.destroy)\n",
    "    button2.pack(pady=40)\n",
    "\n",
    "    root.mainloop()"
   ]
  },
  {
   "cell_type": "markdown",
   "id": "297146cf-716e-4329-a57a-ba19e65c385c",
   "metadata": {},
   "source": [
    "### Defining Primary main root by Tkinter\n",
    "in this section we build our main root of GUI in which we enter the province name."
   ]
  },
  {
   "cell_type": "code",
   "execution_count": null,
   "id": "7280b6ee-5867-4cdb-950e-95eeb0d071ce",
   "metadata": {},
   "outputs": [],
   "source": [
    "#defining main root :\n",
    "root=Tk()\n",
    "# title :\n",
    "root.title(\"IRAN Universities\")\n",
    "# width :\n",
    "w=650\n",
    "# height :\n",
    "h=300\n",
    "# algorithm for finding the center of the screen :\n",
    "ws=root.winfo_screenwidth()\n",
    "hs=root.winfo_screenheight()\n",
    "# X of the center :\n",
    "x=(ws/2)-(w/2)\n",
    "# Y of the center :\n",
    "y=(hs/2)-(h/2)\n",
    "# main root geometry :\n",
    "root.geometry(\"%dx%d+%d+%d\"%(w,h,x,y))\n",
    "# label1 for \"Enter State Province \" :\n",
    "label1=Label(master=root,text=\"Enter State Province :\",width=30,height=3,bg=\"gray\",font=30)\n",
    "label1.pack(fill=BOTH)\n",
    "# entry1 for entering the state name :\n",
    "entry1=Entry(master=root,width=30,font=30,highlightthickness=10)\n",
    "entry1.pack(fill=BOTH)\n",
    "# button1 for the SHOW button :\n",
    "button1=Button(master=root,text=\"SHOW\",bg=\"gray\",width=20)\n",
    "button1.pack(pady=20)\n",
    "# SHOW button calling the function \"getUniInfo\" to show the secondary pop-up root :\n",
    "button1.bind(\"<Button>\",getUniInfo)\n",
    "\n",
    "root.mainloop()"
   ]
  },
  {
   "cell_type": "markdown",
   "id": "7b35063a-18c5-4a19-b1eb-f25c3ccd2bde",
   "metadata": {},
   "source": [
    "**Author**"
   ]
  },
  {
   "cell_type": "markdown",
   "id": "61e31dfd-fcda-43e5-a212-fffedda9e4c6",
   "metadata": {},
   "source": [
    "Alireza Hosseinzadeh"
   ]
  }
 ],
 "metadata": {
  "kernelspec": {
   "display_name": "Python 3 (ipykernel)",
   "language": "python",
   "name": "python3"
  },
  "language_info": {
   "codemirror_mode": {
    "name": "ipython",
    "version": 3
   },
   "file_extension": ".py",
   "mimetype": "text/x-python",
   "name": "python",
   "nbconvert_exporter": "python",
   "pygments_lexer": "ipython3",
   "version": "3.10.9"
  }
 },
 "nbformat": 4,
 "nbformat_minor": 5
}
